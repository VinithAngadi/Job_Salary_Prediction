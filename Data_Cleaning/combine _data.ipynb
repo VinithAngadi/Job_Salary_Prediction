{
 "cells": [
  {
   "cell_type": "code",
   "execution_count": 1,
   "metadata": {},
   "outputs": [],
   "source": [
    "import pandas as pd\n",
    "import numpy as np"
   ]
  },
  {
   "cell_type": "code",
   "execution_count": 2,
   "metadata": {},
   "outputs": [],
   "source": [
    "df1 = pd.read_csv('glassdoor_jobs.csv')\n",
    "df2 = pd.read_csv('glassdoor_jobs2.csv')\n",
    "df3 = pd.read_csv('glassdoor_jobs3.csv')\n",
    "df4 = pd.read_csv('glassdoor_jobs4.csv')\n",
    "df5 = pd.read_csv('glassdoor_jobs5.csv')\n",
    "df6 = pd.read_csv('Data_Science_clean.csv')\n",
    "df7 = pd.read_csv('SDEjobs.csv')\n",
    "df8 = pd.read_csv('ComputerProgrammerJobs.csv')"
   ]
  },
  {
   "cell_type": "code",
   "execution_count": 3,
   "metadata": {},
   "outputs": [],
   "source": [
    "df = df1.append([df2, df3, df4, df5, df6, df7, df8])"
   ]
  },
  {
   "cell_type": "code",
   "execution_count": 4,
   "metadata": {},
   "outputs": [],
   "source": [
    "df = df.drop(columns=['Salary Estimate', 'Rating','Headquarters', 'Size', 'Founded', 'Type of ownership', 'Industry','Sector','Revenue','Unnamed: 0','Competitors'], axis=1)"
   ]
  },
  {
   "cell_type": "code",
   "execution_count": 5,
   "metadata": {},
   "outputs": [],
   "source": [
    "df['Company Name'] = df['Company Name'].str.replace('\\n','')"
   ]
  },
  {
   "cell_type": "code",
   "execution_count": 6,
   "metadata": {},
   "outputs": [],
   "source": [
    "df.dropna(inplace=True)\n",
    "df.reset_index(drop=True, inplace=True)"
   ]
  },
  {
   "cell_type": "code",
   "execution_count": 7,
   "metadata": {},
   "outputs": [],
   "source": [
    "df['Company Name'] = df['Company Name'].apply(lambda x: x[:-3])"
   ]
  },
  {
   "cell_type": "code",
   "execution_count": 8,
   "metadata": {},
   "outputs": [],
   "source": [
    "df['Job Description'] = df['Job Description'].str.replace('\\n',' ')"
   ]
  },
  {
   "cell_type": "code",
   "execution_count": 9,
   "metadata": {},
   "outputs": [],
   "source": [
    "def remove_numbers(text):\n",
    "    res = ''\n",
    "    for char in text:\n",
    "        if char.isdigit():\n",
    "            continue\n",
    "        else:\n",
    "            res += char\n",
    "\n",
    "    return res"
   ]
  },
  {
   "cell_type": "code",
   "execution_count": 10,
   "metadata": {},
   "outputs": [],
   "source": [
    "df['Job Description'] = df['Job Description'].apply(remove_numbers)"
   ]
  },
  {
   "cell_type": "code",
   "execution_count": 11,
   "metadata": {},
   "outputs": [
    {
     "output_type": "execute_result",
     "data": {
      "text/plain": "                                           Job Title  \\\n0                         Senior Full-Stack Engineer   \n1  Front End, Back End and Full stack Developers ...   \n2                         Full Stack Rails Developer   \n3            Senior Full Stack Engineer (Enterprise)   \n4                          Full Stack .Net Developer   \n5                           Full Stack .NET Engineer   \n6    Full-Stack Software Engineer (Integrations/API)   \n7                               Full Stack Developer   \n8                                Full Stack Engineer   \n9           Senior Full Stack Ruby on Rails Engineer   \n\n                                     Job Description  \\\n0  Who We Are  WillowTree is an award-winning dig...   \n1  Software Developer Virtual Career Chat  Event ...   \n2  Come join Bicycle Technologies International (...   \n3  Senior Full Stack Engineer (Enterprise)  About...   \n4  Title of Position: Full Stack .Net Developer  ...   \n5  Job Description: * At Level, our mission is re...   \n6  Articulate is looking for a Full-Stack Softwar...   \n7  Overview: This year we are celebrating  years ...   \n8  Who Are We?  Spring EQ was founded to help hom...   \n9  See us on Chronicle  WCVB: https://www.youtube...   \n\n                      Company Name             Location  \n0                       WillowTree  Charlottesville, VA  \n1                             SAIC      Albuquerque, NM  \n2  Bicycle Technologies Internatio         Santa Fe, NM  \n3                          Codazen   Salt Lake City, UT  \n4                         TriQuest      San Antonio, TX  \n5                           Level2       Minnetonka, MN  \n6                  Articulate inc.        United States  \n7               Blain Supply, Inc.       Janesville, WI  \n8                    Spring EQ LLC     Philadelphia, PA  \n9          Location, Inc. / CoreLo        Worcester, MA  ",
      "text/html": "<div>\n<style scoped>\n    .dataframe tbody tr th:only-of-type {\n        vertical-align: middle;\n    }\n\n    .dataframe tbody tr th {\n        vertical-align: top;\n    }\n\n    .dataframe thead th {\n        text-align: right;\n    }\n</style>\n<table border=\"1\" class=\"dataframe\">\n  <thead>\n    <tr style=\"text-align: right;\">\n      <th></th>\n      <th>Job Title</th>\n      <th>Job Description</th>\n      <th>Company Name</th>\n      <th>Location</th>\n    </tr>\n  </thead>\n  <tbody>\n    <tr>\n      <th>0</th>\n      <td>Senior Full-Stack Engineer</td>\n      <td>Who We Are  WillowTree is an award-winning dig...</td>\n      <td>WillowTree</td>\n      <td>Charlottesville, VA</td>\n    </tr>\n    <tr>\n      <th>1</th>\n      <td>Front End, Back End and Full stack Developers ...</td>\n      <td>Software Developer Virtual Career Chat  Event ...</td>\n      <td>SAIC</td>\n      <td>Albuquerque, NM</td>\n    </tr>\n    <tr>\n      <th>2</th>\n      <td>Full Stack Rails Developer</td>\n      <td>Come join Bicycle Technologies International (...</td>\n      <td>Bicycle Technologies Internatio</td>\n      <td>Santa Fe, NM</td>\n    </tr>\n    <tr>\n      <th>3</th>\n      <td>Senior Full Stack Engineer (Enterprise)</td>\n      <td>Senior Full Stack Engineer (Enterprise)  About...</td>\n      <td>Codazen</td>\n      <td>Salt Lake City, UT</td>\n    </tr>\n    <tr>\n      <th>4</th>\n      <td>Full Stack .Net Developer</td>\n      <td>Title of Position: Full Stack .Net Developer  ...</td>\n      <td>TriQuest</td>\n      <td>San Antonio, TX</td>\n    </tr>\n    <tr>\n      <th>5</th>\n      <td>Full Stack .NET Engineer</td>\n      <td>Job Description: * At Level, our mission is re...</td>\n      <td>Level2</td>\n      <td>Minnetonka, MN</td>\n    </tr>\n    <tr>\n      <th>6</th>\n      <td>Full-Stack Software Engineer (Integrations/API)</td>\n      <td>Articulate is looking for a Full-Stack Softwar...</td>\n      <td>Articulate inc.</td>\n      <td>United States</td>\n    </tr>\n    <tr>\n      <th>7</th>\n      <td>Full Stack Developer</td>\n      <td>Overview: This year we are celebrating  years ...</td>\n      <td>Blain Supply, Inc.</td>\n      <td>Janesville, WI</td>\n    </tr>\n    <tr>\n      <th>8</th>\n      <td>Full Stack Engineer</td>\n      <td>Who Are We?  Spring EQ was founded to help hom...</td>\n      <td>Spring EQ LLC</td>\n      <td>Philadelphia, PA</td>\n    </tr>\n    <tr>\n      <th>9</th>\n      <td>Senior Full Stack Ruby on Rails Engineer</td>\n      <td>See us on Chronicle  WCVB: https://www.youtube...</td>\n      <td>Location, Inc. / CoreLo</td>\n      <td>Worcester, MA</td>\n    </tr>\n  </tbody>\n</table>\n</div>"
     },
     "metadata": {},
     "execution_count": 11
    }
   ],
   "source": [
    "df.head(10)"
   ]
  },
  {
   "cell_type": "code",
   "execution_count": 12,
   "metadata": {},
   "outputs": [],
   "source": [
    "df.to_csv('cleaned_jobs.csv')"
   ]
  }
 ],
 "metadata": {
  "language_info": {
   "codemirror_mode": {
    "name": "ipython",
    "version": 3
   },
   "file_extension": ".py",
   "mimetype": "text/x-python",
   "name": "python",
   "nbconvert_exporter": "python",
   "pygments_lexer": "ipython3",
   "version": 3
  },
  "orig_nbformat": 2,
  "kernelspec": {
   "name": "python_defaultSpec_1604163194648",
   "display_name": "Python 3.7.4 64-bit ('base': conda)"
  }
 },
 "nbformat": 4,
 "nbformat_minor": 2
}